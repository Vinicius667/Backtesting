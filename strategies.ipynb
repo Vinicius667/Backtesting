{
 "cells": [
  {
   "cell_type": "code",
   "execution_count": null,
   "metadata": {},
   "outputs": [],
   "source": [
    "from backtesting import Backtest, Strategy\n",
    "from backtesting.lib import crossover\n",
    "from backtesting.test import SMA, GOOG\n",
    "import pandas as pd\n",
    "import matplotlib.pyplot as plt\n",
    "import plotly.graph_objects as go\n",
    "import numpy as np"
   ]
  },
  {
   "cell_type": "code",
   "execution_count": null,
   "metadata": {},
   "outputs": [],
   "source": [
    "df_fesx = pd.read_csv(\"./data/fesx_M15_2020-06-20_F.US.DSXM20.scid_BarData.txt\", sep=\", \", engine = \"python\")\n",
    "df_fesx[\"Datetime\"] = pd.to_datetime(df_fesx.Date + \"-\" + df_fesx.Time,format=\"%Y/%m/%d-%H:%M:%S\")\n",
    "df_fesx = df_fesx[['Datetime','Open', 'High', 'Low', 'Last', 'Volume']].rename(columns={\"Last\":\"Close\"})#.set_index(\"Datetime\")\n",
    "df_fesx = df_fesx.rename(columns={\"Last\":\"Close\"})\n",
    "df_fesx.head()"
   ]
  },
  {
   "cell_type": "code",
   "execution_count": null,
   "metadata": {},
   "outputs": [],
   "source": [
    "# Detect when the price goes up 5 consecutive times by at least 2 \n",
    "df_fesx['Diff'] = df_fesx.High.diff()\n",
    "\n",
    "rolling_n = 3\n",
    "min_diff = 0\n",
    "\n",
    "df_fesx['DiffMin'] = df_fesx.Close.diff().rolling(rolling_n).min()\n",
    "df_fesx['DiffMax'] = df_fesx.Close.diff().rolling(rolling_n).max()\n",
    "\n",
    "df_fesx['Buy'] = False\n",
    "df_fesx['Sell'] = False\n",
    "\n",
    "mask_buy = (df_fesx.DiffMin> min_diff)\n",
    "mask_sell = (df_fesx.DiffMax < -min_diff)\n",
    "\n",
    "df_fesx.loc[mask_buy, 'Buy'] = True\n",
    "df_fesx.loc[mask_sell, 'Sell'] = True\n",
    "\n",
    "fig = go.Figure(data= [\n",
    "    go.Scatter(x=np.arange(df_fesx.shape[0]), y=df_fesx.High,name = 'fesx',mode=\"lines+markers\"),\n",
    "    go.Scatter(x=np.arange(df_fesx.shape[0]), y=df_fesx.High.rolling(30).mean(), name=f'RM({30})'),\n",
    "    go.Scatter(x=df_fesx[mask_buy].index, y=df_fesx[mask_buy].High, mode='markers', marker_color='red', name = 'Buy'),\n",
    "    go.Scatter(x=df_fesx[mask_sell].index, y=df_fesx[mask_sell].High, mode='markers', marker_color='green', name= 'Sell'),\n",
    "\n",
    "    go.Candlestick(x=np.arange(df_fesx.shape[0]),\n",
    "                open=df_fesx['Open'],\n",
    "                high=df_fesx['High'],\n",
    "                low=df_fesx['Low'],\n",
    "                close=df_fesx['Close'])\n",
    "    ]            \n",
    "    )\n",
    "\n",
    "fig.update_layout(\n",
    "    xaxis_rangeslider_visible= False\n",
    ")\n"
   ]
  },
  {
   "cell_type": "code",
   "execution_count": null,
   "metadata": {},
   "outputs": [],
   "source": [
    "def consec_n_up(arr:pd.Series,n, min_diff):\n",
    "    arr = pd.Series(arr)\n",
    "    return arr.iloc[-(n+1):].diff().min()>min_diff\n",
    "\n",
    "def consec_n_down(arr:pd.Series,n, min_diff):\n",
    "    arr = pd.Series(arr)\n",
    "    return arr.iloc[-(n+1):].diff().max()<-min_diff\n",
    "\n",
    "def fesx(arr : pd.Series):\n",
    "    return arr"
   ]
  },
  {
   "cell_type": "code",
   "execution_count": null,
   "metadata": {},
   "outputs": [],
   "source": [
    "ns =np.arange(1,11)\n",
    "min_diffs = np.linspace(0,5,10)\n",
    "profit = np.zeros((ns.shape[0], min_diffs.shape[0]))"
   ]
  },
  {
   "cell_type": "code",
   "execution_count": null,
   "metadata": {},
   "outputs": [],
   "source": [
    "for n_idx, n in enumerate(ns):\n",
    "    for min_diff_idx, min_diff in enumerate(min_diffs):\n",
    "        class Teste1(Strategy):\n",
    "                def init(self):\n",
    "                    pass\n",
    "                #    high = self.data.High\n",
    "                #    self.array = self.I(fesx, high,scatter=False)\n",
    "                def next(self):\n",
    "                    if consec_n_down(self.data.High, n, min_diff):\n",
    "                        self.sell()\n",
    "                    if consec_n_up(self.data.High, n, min_diff):\n",
    "                        self.buy()\n",
    "\n",
    "\n",
    "        bt = Backtest(df_fesx, Teste1,\n",
    "                    cash=10000, commission=.002,\n",
    "                    exclusive_orders=True)\n",
    "\n",
    "        output = bt.run()\n",
    "        profit[n_idx][min_diff_idx] = output['Profit Factor']\n",
    "        raise"
   ]
  }
 ],
 "metadata": {
  "kernelspec": {
   "display_name": "base",
   "language": "python",
   "name": "python3"
  },
  "language_info": {
   "codemirror_mode": {
    "name": "ipython",
    "version": 3
   },
   "file_extension": ".py",
   "mimetype": "text/x-python",
   "name": "python",
   "nbconvert_exporter": "python",
   "pygments_lexer": "ipython3",
   "version": "3.9.17 (main, Jul  5 2023, 21:22:06) [MSC v.1916 64 bit (AMD64)]"
  },
  "orig_nbformat": 4,
  "vscode": {
   "interpreter": {
    "hash": "bc2cefd0281c801cfecce64a6c6f045a8fc1e4c861b6297eb4e87b91b65006cb"
   }
  }
 },
 "nbformat": 4,
 "nbformat_minor": 2
}
