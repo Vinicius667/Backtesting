{
 "cells": [
  {
   "cell_type": "code",
   "execution_count": null,
   "metadata": {},
   "outputs": [],
   "source": [
    "from backtesting import Backtest, Strategy\n",
    "from backtesting.lib import crossover\n",
    "from backtesting.test import SMA, GOOG\n",
    "import pandas as pd\n",
    "import matplotlib.pyplot as plt\n",
    "import plotly.graph_objects as go\n",
    "from plotly.subplots import make_subplots\n",
    "import numpy as np\n",
    "from numba import njit"
   ]
  },
  {
   "cell_type": "markdown",
   "metadata": {},
   "source": [
    "![Alt text](image-1.png)"
   ]
  },
  {
   "cell_type": "code",
   "execution_count": null,
   "metadata": {},
   "outputs": [],
   "source": [
    "df_fesx = pd.read_csv(\"./data/fesx_M15_2020-06-20_F.US.DSXM20.scid_BarData.txt\", sep=\", \", engine = \"python\")\n",
    "df_fesx[\"Datetime\"] = pd.to_datetime(df_fesx.Date + \"-\" + df_fesx.Time,format=\"%Y/%m/%d-%H:%M:%S\")\n",
    "df_fesx = df_fesx[['Datetime','Open', 'High', 'Low', 'Last', 'Volume']].rename(columns={\"Last\":\"Close\"})#.set_index(\"Datetime\")\n",
    "df_fesx = df_fesx.rename(columns={\"Last\":\"Close\"})\n",
    "df_fesx.head()"
   ]
  },
  {
   "cell_type": "code",
   "execution_count": null,
   "metadata": {},
   "outputs": [],
   "source": [
    "df_fesx['diff_high'] = df_fesx['High'].diff()\n",
    "df_fesx['diff_low'] = df_fesx['Low'].diff()"
   ]
  },
  {
   "cell_type": "code",
   "execution_count": null,
   "metadata": {},
   "outputs": [],
   "source": [
    "@njit()\n",
    "def monotonic_segment(high, low, high_diff, low_diff):\n",
    "    # threshhold for monotonicity\n",
    "    th = 3\n",
    "    # group monotonic segments\n",
    "    g = 1\n",
    "    state = 0 # 0: flat, 1: increasing, -1: decreasing\n",
    "    peak = 0\n",
    "    counter = 0\n",
    "    q = int(high.shape[0]/10)\n",
    "    segs = np.zeros((3,q))\n",
    "    seg_idx = 0\n",
    "    wave_started  = False\n",
    "    for idx in range(high.shape[0]):\n",
    "        #high_value = high[idx]\n",
    "        #low_value = low[idx]\n",
    "        high_diff_value = high_diff[idx]\n",
    "        low_diff_value = low_diff[idx]\n",
    "\n",
    "        if high_diff_value > 0:\n",
    "            if state != 1:\n",
    "                if (state == -1) and (counter > th):\n",
    "                    segs[0,seg_idx] = -1\n",
    "                    segs[1,seg_idx] = idx - counter\n",
    "                    segs[2,seg_idx] = idx - 1\n",
    "                    seg_idx += 1\n",
    "                state = 1\n",
    "                counter = 1\n",
    "            else:\n",
    "                counter += 1\n",
    "        elif low_diff_value < 0:\n",
    "            if state != -1:\n",
    "                if (state == 1) and (counter > th):\n",
    "                    segs[0,seg_idx] = 1\n",
    "                    segs[1,seg_idx] = idx - counter\n",
    "                    segs[2,seg_idx] = idx - 1\n",
    "                    seg_idx += 1\n",
    "                state = -1\n",
    "                counter = 1\n",
    "            else:\n",
    "                counter += 1\n",
    "    return segs[:,:seg_idx]\n",
    "\n",
    "\n",
    "\n",
    "segs = monotonic_segment(df_fesx.High.to_numpy(), \n",
    "                df_fesx.High.to_numpy(),\n",
    "                df_fesx.diff_high.to_numpy(),\n",
    "                df_fesx.diff_low.to_numpy()      \n",
    "                  )\n",
    "\n",
    "\n",
    "dict_wave_type = {1:\"High\", -1:\"Low\"}\n",
    "\n",
    "fig = go.Figure(data= [\n",
    "    go.Scatter(x=df_fesx.index, y=df_fesx.High,name = 'High',mode=\"lines+markers\", marker_color = \"green\"),\n",
    "    go.Scatter(x=df_fesx.index, y=df_fesx.Low,name = 'Low',mode=\"lines+markers\", marker_color = \"red\"),\n",
    "    \n",
    "    go.Candlestick(x=df_fesx.index,\n",
    "                open=df_fesx['Open'],\n",
    "                high=df_fesx['High'],\n",
    "                low=df_fesx['Low'],\n",
    "                close=df_fesx['Close'],\n",
    "                name = 'Candlestick'\n",
    "                )\n",
    "    ]\n",
    "    )\n",
    "\n",
    "fig.update_layout(\n",
    "    xaxis_rangeslider_visible= False\n",
    ")\n",
    "\n",
    "\n",
    "for seg_idx in range(segs.shape[1]):\n",
    "    start_idx = int(segs[1,seg_idx])\n",
    "    end_idx = int(segs[2,seg_idx] )\n",
    "    col_name = dict_wave_type[int(segs[0,seg_idx])]\n",
    "    start_wave = df_fesx.loc[start_idx, col_name]\n",
    "    end_wave = df_fesx.loc[end_idx, col_name]\n",
    "    df_fesx.High.loc[0]\n",
    "    fig.add_trace(\n",
    "      go.Scatter(x=[start_idx, end_idx], y=[start_wave, end_wave],name = 'level',mode=\"lines\", marker_color = \"pink\", showlegend=False)\n",
    "   )\n",
    "    #print(start_idx, end_idx, start_wave, end_wave)\n",
    "    continue\n",
    "\n",
    "fig.update_layout(height=250, width=900,\n",
    "     margin=dict(l=0, r=0, t=0, b=0),             \n",
    "                  )\n",
    "fig.show()"
   ]
  }
 ],
 "metadata": {
  "kernelspec": {
   "display_name": "base",
   "language": "python",
   "name": "python3"
  },
  "language_info": {
   "codemirror_mode": {
    "name": "ipython",
    "version": 3
   },
   "file_extension": ".py",
   "mimetype": "text/x-python",
   "name": "python",
   "nbconvert_exporter": "python",
   "pygments_lexer": "ipython3",
   "version": "3.9.17"
  },
  "orig_nbformat": 4,
  "vscode": {
   "interpreter": {
    "hash": "bc2cefd0281c801cfecce64a6c6f045a8fc1e4c861b6297eb4e87b91b65006cb"
   }
  }
 },
 "nbformat": 4,
 "nbformat_minor": 2
}
